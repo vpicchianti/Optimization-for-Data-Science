{
 "cells": [
  {
   "cell_type": "code",
   "execution_count": 1,
   "id": "499ba858-0efd-4ca3-823b-4f8ae65d1987",
   "metadata": {},
   "outputs": [
    {
     "name": "stdout",
     "output_type": "stream",
     "text": [
      "Requirement already satisfied: pyMCFSimplex in c:\\users\\valeria\\appdata\\local\\programs\\python\\python39\\lib\\site-packages (0.9.4)\n",
      "Requirement already satisfied: numpy in c:\\users\\valeria\\appdata\\local\\programs\\python\\python39\\lib\\site-packages (from pyMCFSimplex) (1.23.0)\n"
     ]
    },
    {
     "name": "stderr",
     "output_type": "stream",
     "text": [
      "\n",
      "[notice] A new release of pip is available: 23.1.2 -> 23.2.1\n",
      "[notice] To update, run: python.exe -m pip install --upgrade pip\n"
     ]
    }
   ],
   "source": [
    "import numpy as np\n",
    "# !pip install pyMCFSimplex\n",
    "from pyMCFSimplex import *\n",
    "import random\n",
    "from scipy.optimize import linprog"
   ]
  },
  {
   "cell_type": "markdown",
   "id": "97b7b3d8-1813-43ac-91d2-414fc7b63c5c",
   "metadata": {},
   "source": [
    "### ESTRAZIONE DEI DATI \n",
    "La prima funzione serve per estrarre i costi quadratici che si trovano nella diagonale di Q,\n",
    "la seconda funzione serve per estrarre le seguenti quantità \n",
    " - u,b,q\n",
    " - numero nodi\n",
    " - numero archi \n"
   ]
  },
  {
   "cell_type": "code",
   "execution_count": 2,
   "id": "ef76b06e-e935-49da-8428-87465459d581",
   "metadata": {},
   "outputs": [],
   "source": [
    "def matrice_Q(nome_file):\n",
    "    vettore = []\n",
    "    with open(nome_file, 'r') as file:\n",
    "        dimensione = int(file.readline()) # la prima riga è la dimensione del vettore\n",
    "        valori = file.readline().split() # dalla seconda riga \n",
    "        vettore = [float(valore) for valore in valori]\n",
    "        \n",
    "        \n",
    "        #error check \n",
    "        if len(vettore) != dimensione:\n",
    "            raise ValueError(\"Il numero di valori nel file non corrisponde alla dimensione specificata.\")\n",
    "    \n",
    "    dimensione = len(vettore)\n",
    "    matrice = np.zeros((dimensione, dimensione)) #creo matrice\n",
    "    np.fill_diagonal(matrice, vettore)  #riempio la diagonale\n",
    "    return matrice, vettore\n",
    "   \n",
    "\n",
    "nome_file = \"1000/netgen-1000-1-1-a-a-s.qfc\"\n",
    "Q_d = matrice_Q(nome_file)[1]\n",
    "Q = matrice_Q(nome_file)[0]"
   ]
  },
  {
   "cell_type": "code",
   "execution_count": 4,
   "id": "7425f3c4-a39d-4797-a256-3869fec6d6fd",
   "metadata": {},
   "outputs": [],
   "source": [
    "def leggi_file_dimacs(file_path):\n",
    "    numero_nodi = 0\n",
    "    numero_archi = 0\n",
    "    u = []\n",
    "    b = []\n",
    "    q = []\n",
    "    from_=[]\n",
    "    to_=[]\n",
    "    edges = []\n",
    "\n",
    "    with open(file_path, 'r') as file:\n",
    "        for line in file:\n",
    "            parts = line.split()\n",
    "            if len(parts) > 0:\n",
    "                if parts[0] == 'p':\n",
    "                    # Leggi il numero di nodi e archi dal problema\n",
    "                    numero_nodi = int(parts[2])\n",
    "                    numero_archi = int(parts[3])\n",
    "                    # Inizializza il vettore di supply con zeri\n",
    "                    b = [0] * numero_nodi\n",
    "                elif parts[0] == 'n':\n",
    "                    # Leggi i valori di supply per i nodi\n",
    "                    nodo_id = int(parts[1])\n",
    "                    supply = int(parts[2])\n",
    "                    # Assegna il valore di supply al nodo corrispondente\n",
    "                    b[nodo_id - 1] = supply\n",
    "                elif parts[0] == 'a':\n",
    "                    # Leggi l'arc e il suo costo\n",
    "                    from_node = int(parts[1])\n",
    "                    to_node = int(parts[2])\n",
    "                    max_capacity = int(parts[4])\n",
    "                    costo = int(parts[5])  # Ora leggiamo il costo corretto\n",
    "                    from_.append(from_node)\n",
    "                    to_.append(to_node)\n",
    "                    u.append(max_capacity)\n",
    "                    q.append(costo)\n",
    "                    edges.append((from_node , to_node ))\n",
    "\n",
    "    return numero_nodi, numero_archi, u, b, q, edges,from_,to_\n",
    "\n",
    "# Esempio di utilizzo\n",
    "file_path = '1000/netgen-1000-1-1-a-a-s.dmx'  # Sostituisci con il percorso del tuo file DIMACS\n",
    "numero_nodi, numero_archi, u, b, q, edges,from_ ,to_ = leggi_file_dimacs(file_path)\n",
    "\n",
    "# creazione della matrice E \n",
    "E = np.zeros((numero_nodi, len(edges)), int)\n",
    "#import pandas as pd\n",
    "#E = pd.DataFrame(E)\n",
    "#metto nomi delle colonne delle matrice E uguali agli archi\n",
    "#E.columns = [edges]"
   ]
  },
  {
   "cell_type": "markdown",
   "id": "bad36bfb-ea7d-4365-ad84-ca56799480eb",
   "metadata": {},
   "source": [
    "### ALGORITMO \n"
   ]
  },
  {
   "cell_type": "code",
   "execution_count": null,
   "id": "fabb2113-614c-4a0c-88b4-5ee26815523a",
   "metadata": {},
   "outputs": [],
   "source": [
    "#________________________\n",
    "#      STEP 0 \n",
    "#_______________________\n",
    "\n",
    "#Generazione x_0 iniziali \n",
    "def scale_vector(x, u):\n",
    "    scaled_x = []\n",
    "    for xi, ui in zip(x, u):\n",
    "        scaling_factor = ui / max(abs(xi), 1e-6)\n",
    "        scaled_xi = xi * scaling_factor\n",
    "        scaled_x.append(scaled_xi)\n",
    "    return scaled_x\n",
    "\n",
    "\n",
    "x, residuals, _, _ = np.linalg.lstsq(E, b, rcond=None)\n",
    "scaled_x = scale_vector(x, u)"
   ]
  },
  {
   "cell_type": "code",
   "execution_count": null,
   "id": "9f5f7831",
   "metadata": {},
   "outputs": [],
   "source": [
    "#________________________\n",
    "#      STEP 1 \n",
    "#_______________________\n",
    "\n",
    "# calcolo del gradiente \n",
    "\n",
    "# gradient = 2 * np.dot(Q, x_scaled) + q\n",
    " \n",
    "# calcolo delle x_bar \n",
    "\n",
    "#direzione \n",
    "#d= x_bar - x_0"
   ]
  },
  {
   "cell_type": "code",
   "execution_count": null,
   "id": "79fa3d79",
   "metadata": {},
   "outputs": [],
   "source": [
    "#________________________\n",
    "#      STEP 2 \n",
    "#_______________________\n",
    "\n",
    "# determinazione alpha, step size \n",
    "# alpha= 2/(2+k)\n",
    "#alpha= 2/(2+0)\n"
   ]
  },
  {
   "cell_type": "code",
   "execution_count": null,
   "id": "1db59ddb",
   "metadata": {},
   "outputs": [],
   "source": [
    "#________________________\n",
    "#      STEP 3\n",
    "#_______________________\n",
    "\n",
    "# aggiornamento posizione \n",
    "#x_(k+1)=x_k + alpha_k *d_k\n",
    "\n",
    "\n",
    "# check terminazione \n",
    "\n",
    "# k=k+1 "
   ]
  },
  {
   "cell_type": "code",
   "execution_count": 52,
   "id": "ec30ba5e",
   "metadata": {},
   "outputs": [],
   "source": [
    "#  calcolo del gradiente \n",
    "gradient = 2 * Q @ scaled_x + q"
   ]
  },
  {
   "cell_type": "code",
   "execution_count": 54,
   "id": "ae824bc6-8ab4-441e-a672-a8e402f7311e",
   "metadata": {},
   "outputs": [
    {
     "name": "stdout",
     "output_type": "stream",
     "text": [
      "Setting time..\n"
     ]
    }
   ],
   "source": [
    "# MCFP problem transformed to integers and lists\n",
    "nmx     = numero_nodi # max number of nodes\n",
    "mmx     = numero_archi # max number of arcs\n",
    "pn      = numero_nodi # current number of nodes\n",
    "pm      = numero_archi# current number of arcs\n",
    "pU      = u # column maxflow\n",
    "pC      = gradient # column cost\n",
    "pDfct   = b  # node deficit (supply/demand)\n",
    "pSn     = from_ # column from\n",
    "pEn     = to_ # column to\n",
    "\n",
    "# call LoadNet() with the return values of the helper methods\n",
    "# e.g. CreateDoubleArrayFromList(pU) takes a python list and returns a pointer to a \n",
    "# corresponding C array, that is passed as an argument to the method LoadNet()\n",
    "mcf = MCFSimplex()\n",
    "mcf.LoadNet(nmx, mmx, pn, pm, CreateDoubleArrayFromList(pU), CreateDoubleArrayFromList(pC),\n",
    "            CreateDoubleArrayFromList(pDfct), CreateUIntArrayFromList(pSn),\n",
    "            CreateUIntArrayFromList(pEn))\n",
    "\n",
    "print( \"Setting time..\")\n",
    "mcf.SetMCFTime()\n",
    "mcf.SolveMCF()\n",
    "#if mcf.MCFGetStatus() == 0:\n",
    "   # print (\"Optimal solution: %s\" %mcf.MCFGetFO())\n",
    "    #print( \"Time elapsed: %s sec \" %(mcf.TimeMCF()))\n",
    "#else:\n",
    " #   print( \"Problem unfeasible!\")\n",
    "  #  print( \"Time elapsed: %s sec \" %(mcf.TimeMCF()))\n"
   ]
  },
  {
   "cell_type": "code",
   "execution_count": 60,
   "id": "0f046fb9",
   "metadata": {},
   "outputs": [
    {
     "data": {
      "text/plain": [
       "1.7976931348623157e+308"
      ]
     },
     "execution_count": 60,
     "metadata": {},
     "output_type": "execute_result"
    }
   ],
   "source": [
    "mcf.MCFGetFO()"
   ]
  },
  {
   "cell_type": "code",
   "execution_count": 11,
   "id": "b9002d50-4a2c-494b-b0db-c935a146f6cd",
   "metadata": {},
   "outputs": [],
   "source": [
    "#pip install numpy==1.6.1"
   ]
  },
  {
   "cell_type": "code",
   "execution_count": 13,
   "id": "1c16d36e-577c-431e-a4d5-65080181bc03",
   "metadata": {},
   "outputs": [
    {
     "name": "stdout",
     "output_type": "stream",
     "text": [
      "Requirement already satisfied: pyMCFSimplex in c:\\users\\39327\\appdata\\local\\packages\\pythonsoftwarefoundation.python.3.9_qbz5n2kfra8p0\\localcache\\local-packages\\python39\\site-packages (0.9.4)\n",
      "Requirement already satisfied: numpy in c:\\users\\39327\\appdata\\local\\packages\\pythonsoftwarefoundation.python.3.9_qbz5n2kfra8p0\\localcache\\local-packages\\python39\\site-packages (from pyMCFSimplex) (1.25.2)\n"
     ]
    }
   ],
   "source": []
  },
  {
   "cell_type": "code",
   "execution_count": 14,
   "id": "e94d447f-8312-49f5-8644-f4e90b319952",
   "metadata": {},
   "outputs": [],
   "source": []
  },
  {
   "cell_type": "code",
   "execution_count": 180,
   "id": "e2655306-0f51-41e1-8586-2e968907a3e3",
   "metadata": {},
   "outputs": [],
   "source": [
    "vettore_soluzione={}"
   ]
  },
  {
   "cell_type": "code",
   "execution_count": 181,
   "id": "57a5b60f-7bf2-4b5d-b039-fc7f6d58c810",
   "metadata": {},
   "outputs": [],
   "source": [
    "def showModuleFunctionality():\n",
    "   \n",
    "    nmx = mcf.MCFnmax()\n",
    "    mmx = mcf.MCFmmax()\n",
    "    pn = mcf.MCFnmax()\n",
    "    pm = mcf.MCFmmax()\n",
    "\n",
    "    pU = []\n",
    "    caps = new_darray(mmx)\n",
    "    mcf.MCFUCaps(caps)\n",
    "    for i in range(0, mmx):\n",
    "        pU.append(darray_get(caps, i))\n",
    "\n",
    "    pC = []\n",
    "    costs = new_darray(mmx)\n",
    "    mcf.MCFCosts(costs)\n",
    "    for i in range(0, mmx):\n",
    "        pC.append(darray_get(costs, i))\n",
    "\n",
    "    pDfct = []\n",
    "    supply = new_darray(nmx)\n",
    "    mcf.MCFDfcts(supply)\n",
    "    for i in range(0, nmx):\n",
    "        pDfct.append(darray_get(supply, i))\n",
    "\n",
    "    pSn = []\n",
    "    pEn = []\n",
    "    startNodes = new_uiarray(mmx)\n",
    "    endNodes = new_uiarray(mmx)\n",
    "    mcf.MCFArcs(startNodes, endNodes)\n",
    "    for i in range(0, mmx):\n",
    "        pSn.append(uiarray_get(startNodes, i) + 1)\n",
    "        pEn.append(uiarray_get(endNodes, i) + 1)\n",
    "\n",
    "    print(\"arc flow\")\n",
    "    length = mcf.MCFm()\n",
    "    flow = new_darray(length)\n",
    "    length = mcf.MCFn()\n",
    "    nms = new_uiarray(length)\n",
    "    mcf.MCFGetX(flow, nms)\n",
    "\n",
    "   \n",
    "\n",
    "    for i in range(0, length):\n",
    "        print(\"flow\", darray_get(flow, i), \"arc\", uiarray_get(nms, i))\n",
    "        vettore_soluzione[uiarray_get(nms, i)] = darray_get(flow, i)\n",
    "\n",
    "    print(\"node potentials\")\n",
    "    length = mcf.MCFn()\n",
    "    costs = new_darray(length)\n",
    "    mcf.MCFGetPi(costs, nms)\n",
    "    for i in range(0, length):\n",
    "        print(\"flow\", darray_get(costs, i), \"node\", i + 1)\n",
    "\n",
    "    print(\"reading graph - arcs\")\n",
    "    length = mcf.MCFm()\n",
    "    startNodes = new_uiarray(length)\n",
    "    endNodes = new_uiarray(length)\n",
    "    mcf.MCFArcs(startNodes, endNodes)\n",
    "    for i in range(0, length):\n",
    "        print(\"Arc %s: start %s end %s\" % (i, uiarray_get(startNodes, i) + 1, uiarray_get(endNodes, i) + 1))\n",
    "\n",
    "    print(\"reading graph - costs\")\n",
    "    length = mcf.MCFm()\n",
    "    costs = new_darray(length)\n",
    "    mcf.MCFCosts(costs)\n",
    "    for i in range(0, length):\n",
    "        print(\"Arc %s: cost %s\" % (i, darray_get(costs, i)))\n",
    "\n",
    "    print(\"reading graph - capacities\")\n",
    "    length = mcf.MCFm()\n",
    "    caps = new_darray(length)\n",
    "    mcf.MCFUCaps(caps)\n",
    "    for i in range(0, length):\n",
    "        print(\"Arc %s: capacities %s\" % (i, darray_get(caps, i)))\n",
    "\n",
    "    print(\"reading nodes - supply/demand\")\n",
    "    length = mcf.MCFn()\n",
    "    supply = new_darray(length)\n",
    "    mcf.MCFDfcts(supply)\n",
    "    for i in range(0, length):\n",
    "        print(\"Node %s: demand %s\" % (i + 1, darray_get(supply, i)))\n",
    "\n",
    "    return vettore_soluzione  # Restituisci il vettore_soluzione alla fine della funzione\n"
   ]
  },
  {
   "cell_type": "code",
   "execution_count": 182,
   "id": "28db8e9e-e068-474f-925c-cb9d182dec0a",
   "metadata": {},
   "outputs": [
    {
     "name": "stdout",
     "output_type": "stream",
     "text": [
      "Optimal solution: 24633.0\n",
      "Time elapsed: 0.0 sec \n"
     ]
    }
   ],
   "source": [
    "#from pyMCFSimplex import *\n",
    "#print( \"pyMCFSimplex Version '%s' successfully imported.\" % version())\n",
    "mcf = MCFSimplex()\n",
    "#print (\"MCFSimplex Class successfully instantiated.\")\n",
    "FILENAME = '1000/netgen-1000-1-1-a-a-ns.dmx'\n",
    "#print (\"Loading network from DIMACS file %s..\" % FILENAME)\n",
    "f = open(FILENAME,'r')\n",
    "inputStr = f.read()\n",
    "f.close()\n",
    "mcf.LoadDMX(inputStr)\n",
    " \n",
    "#print (\"Setting time..\")\n",
    "#mcf.SetMCFTime()\n",
    "#print (\"Solving problem..\")\n",
    "mcf.SolveMCF()\n",
    "if mcf.MCFGetStatus() == 0:\n",
    "    print (\"Optimal solution: %s\" %mcf.MCFGetFO())\n",
    "   \n",
    "    print (\"Time elapsed: %s sec \" %(mcf.TimeMCF()))\n",
    "else:\n",
    "    print( \"Problem unfeasible!\")\n",
    "    print (\"Time elapsed: %s sec \" %(mcf.TimeMCF()))"
   ]
  },
  {
   "cell_type": "code",
   "execution_count": 192,
   "id": "d0e41fa0-e7eb-4e8c-9eb4-9082a71c2c01",
   "metadata": {},
   "outputs": [],
   "source": [
    "%%capture\n",
    "showModuleFunctionality()"
   ]
  },
  {
   "cell_type": "code",
   "execution_count": null,
   "id": "062eb5fe-6ac4-475f-a1f2-4789d1934481",
   "metadata": {},
   "outputs": [],
   "source": [
    "vettore_soluzione\n",
    "sol_x=[0]*1000\n",
    "for key in vettore_soluzione:\n",
    "    if key<=1000:\n",
    "    #print(key)\n",
    "        sol_x[key-1]=vettore_soluzione[key]\n",
    "print(sol_x)"
   ]
  }
 ],
 "metadata": {
  "kernelspec": {
   "display_name": "Python 3 (ipykernel)",
   "language": "python",
   "name": "python3"
  },
  "language_info": {
   "codemirror_mode": {
    "name": "ipython",
    "version": 3
   },
   "file_extension": ".py",
   "mimetype": "text/x-python",
   "name": "python",
   "nbconvert_exporter": "python",
   "pygments_lexer": "ipython3",
   "version": "3.9.0"
  }
 },
 "nbformat": 4,
 "nbformat_minor": 5
}
