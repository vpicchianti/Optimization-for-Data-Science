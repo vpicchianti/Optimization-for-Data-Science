{
 "cells": [
  {
   "cell_type": "markdown",
   "metadata": {},
   "source": [
    "# CODICE PROGETTO 32 OPTIMIZATION \n"
   ]
  },
  {
   "cell_type": "markdown",
   "metadata": {},
   "source": [
    "### Implementazione algoritmo risolutivo"
   ]
  },
  {
   "cell_type": "code",
   "execution_count": 1,
   "metadata": {},
   "outputs": [],
   "source": [
    "import numpy as np\n",
    "import random\n",
    "import time\n",
    "from scipy.optimize import *\n",
    "\n",
    "# !pip install pyMCFSimplex\n",
    "from pyMCFSimplex import *"
   ]
  },
  {
   "cell_type": "markdown",
   "metadata": {},
   "source": [
    "#### 1. Estrazione dei dati dai file .dmx e .qfc utilizzati per la generazione delle istanze del problema\n",
    "La prima funzione *matrice_Q(nome_file)* serve per estrarre i costi quadratici che si trovano nella diagonale di Q,\n",
    "\n",
    "mentre la seconda funzione *leggi_file_dimacs(nome_file)* serve per estrarre le seguenti quantità: \n",
    " - u, b, q\n",
    " - numero nodi\n",
    " - numero archi "
   ]
  },
  {
   "cell_type": "code",
   "execution_count": 2,
   "metadata": {},
   "outputs": [],
   "source": [
    "def matrice_Q(nome_file_qfc):\n",
    "    vettore = []\n",
    "    with open(nome_file_qfc, 'r') as file:\n",
    "        dimensione = int(file.readline()) # la prima riga è la dimensione del vettore\n",
    "        valori = file.readline().split() # dalla seconda riga \n",
    "        vettore = [float(valore) for valore in valori]\n",
    "        \n",
    "        #error check \n",
    "        if len(vettore) != dimensione:\n",
    "            raise ValueError(\"Il numero di valori nel file non corrisponde alla dimensione specificata\")\n",
    "    \n",
    "    dimensione = len(vettore)\n",
    "    matrice = np.zeros((dimensione, dimensione)) # creazione matrice \n",
    "    np.fill_diagonal(matrice, vettore)  # si riempie diagonale\n",
    "    \n",
    "    return matrice, vettore\n",
    "\n",
    "\n",
    "def leggi_file_dimacs(nome_file):\n",
    "    numero_nodi = 0\n",
    "    numero_archi = 0\n",
    "    u = []\n",
    "    b = []\n",
    "    q = []\n",
    "    from_=[]\n",
    "    to_=[]\n",
    "    edges = []\n",
    "\n",
    "    with open(nome_file, 'r') as file:\n",
    "        for line in file:\n",
    "            parts = line.split()\n",
    "            if len(parts) > 0:\n",
    "                if parts[0] == 'p':\n",
    "                    # legge il numero di nodi e archi dal problema\n",
    "                    numero_nodi = int(parts[2])\n",
    "                    numero_archi = int(parts[3])\n",
    "                    # inizializza il vettore di supply con zeri\n",
    "                    b = [0] * numero_nodi\n",
    "                elif parts[0] == 'n':\n",
    "                    # legge i valori di supply per i nodi\n",
    "                    nodo_id = int(parts[1])\n",
    "                    supply = int(parts[2])\n",
    "                    # assegna il valore di supply al nodo corrispondente\n",
    "                    b[nodo_id - 1] = supply\n",
    "                elif parts[0] == 'a':\n",
    "                    # leggi l'arco e il suo cotso\n",
    "                    from_node = int(parts[1])\n",
    "                    to_node = int(parts[2])\n",
    "                    max_capacity = int(parts[4])\n",
    "                    costo = int(parts[5])  # leggiamo costo corretto\n",
    "                    from_.append(from_node)\n",
    "                    to_.append(to_node)\n",
    "                    u.append(max_capacity)\n",
    "                    q.append(costo)\n",
    "                    edges.append((from_node , to_node ))\n",
    "\n",
    "    return numero_nodi, numero_archi, u, b, q, edges,from_, to_"
   ]
  },
  {
   "cell_type": "markdown",
   "metadata": {},
   "source": [
    "#### 2. Algoritmo\n",
    "\n",
    "Step: \n",
    "\n",
    "0. Inizializzazione di x<sub>0</sub> con generazione casuale soggetta al vincolo 0 &le; x<sub>0</sub> &le; u\n",
    "1. Calcolo del gradiente, risoluzione del sottoproblema lineare usando il solver pyMCFSimplex (x̄), determinazione della direzione\n",
    "2. Determinazione dello step size &alpha;\n",
    "3. Aggiornamento della posizione e check terminazione sul prodotto scalare (<grad, d>)"
   ]
  },
  {
   "cell_type": "code",
   "execution_count": 4,
   "metadata": {},
   "outputs": [],
   "source": [
    "# Questa funzione crea un nuovo file .dmx in cui i valori delle righe che iniziano con 'a' (definizione archi)\n",
    "# vengono sostituiti con i valori presenti nel vettore gradient. L'obiettivo è modificare il file di input \n",
    "# (input_file) in modo da utilizzare al posto dei costi lineari del file originale, il gradiente \n",
    "# (vogliamo risolvere il sottoproblema lineare, aka l'approssimazione lineare del problema Taylor 1st ordine).   \n",
    "\n",
    "def modify_file_with_gradient(input_file, output_file, gradient):\n",
    "    with open(input_file, 'r') as file:\n",
    "        lines = file.readlines()\n",
    "\n",
    "    # inizalizzazione dell'indice per il vettore gradient\n",
    "    gradient_index = 0\n",
    "\n",
    "    # modifica delle righe che iniziano con 'a'\n",
    "    for i in range(len(lines)):\n",
    "        if lines[i].startswith('a'):\n",
    "            words = lines[i].split()\n",
    "            words[-1] = str(gradient[gradient_index])\n",
    "            gradient_index += 1\n",
    "            lines[i] = ' '.join(words)\n",
    "\n",
    "    # creazione nuovo file\n",
    "    with open(output_file, 'w') as file:\n",
    "        file.writelines(lines)"
   ]
  },
  {
   "cell_type": "code",
   "execution_count": 41,
   "metadata": {},
   "outputs": [],
   "source": [
    "def algoritmo(nome_file, epsilon, max_iter, Q, q, u, numero_archi):\n",
    "    k = 0 \n",
    "    alpha = 2/(2+k)\n",
    "\n",
    "    start_time = time.time()\n",
    "    # prodotto_scalare = float(\"inf\")\n",
    "\n",
    "    # STEP 0 : inizializzazione di x_0\n",
    "    seed = 42\n",
    "    np.random.seed(seed)\n",
    "    x_old = []\n",
    "\n",
    "    for u_i in u:\n",
    "        x_i = random.randint(0, u_i)\n",
    "        x_old.append(x_i)\n",
    "\n",
    "\n",
    "    while k < max_iter or prodotto_scalare >= epsilon:\n",
    "        \n",
    "        # STEP 1 : calcolo gradiente\n",
    "        gradient = (2 * np.dot(Q, x_old)) + q\n",
    "        gradient = gradient.tolist()\n",
    "        modify_file_with_gradient(nome_file, 'output.dmx', gradient)\n",
    "\n",
    "        # risoluzione del problema lineare (ricerca di argmin) con MCF solver\n",
    "        FILENAME = 'output3.dmx'\n",
    "        f = open(FILENAME,'r')\n",
    "        inputStr = f.read()\n",
    "        f.close()\n",
    "        mcf = MCFSimplex()\n",
    "        mcf.LoadDMX(inputStr)\n",
    "        mcf.SolveMCF()\n",
    "        if mcf.MCFGetStatus() == 0:\n",
    "            if k % 100 == 0: # stampa output ogni 100 iterazioni \n",
    "                soluzione_ottima = mcf.MCFGetFO()\n",
    "                print(\"Iterazione: {:>4}  Step size: {:>20}  Optimal solution: {:.6f}\".format(k, alpha, soluzione_ottima))\n",
    "        else:\n",
    "            print( \"Problem unfeasible!\")\n",
    "        vettore_soluzione = {}   \n",
    "        sol_x = [0] * numero_archi\n",
    "        for key in vettore_soluzione:\n",
    "            if key <= 1000:\n",
    "                sol_x[key-1] = vettore_soluzione[key]\n",
    "\n",
    "        # calcolo delle x_bar e determinazione della direzione di ricerca\n",
    "        x_bar = sol_x\n",
    "        d = [a - b for a, b in zip(x_bar, x_old)] # direzione\n",
    "\n",
    "        # STEP 2 : determinazione alpha, step size\n",
    "        alpha= 2 / (2+k)\n",
    "    \n",
    "        # STEP 3 : aggiornamento della posizione\n",
    "        x_new = []\n",
    "        for i in range(len(x_old)):\n",
    "            x_new.append(x_old[i] + alpha * d[i])\n",
    "\n",
    "        # check terminazione \n",
    "        gradient_per_check=(2 * np.dot(Q, x_new) ) + q\n",
    "        prodotto_scalare = np.dot(gradient_per_check, d)\n",
    "    \n",
    "        # aggiornamento poszione e incremento numero di iterazioni\n",
    "        x_old = x_new\n",
    "        k += 1\n",
    "        \n",
    "    end_time = time.time()\n",
    "    tempo_tot = end_time - start_time\n",
    "\n",
    "    print()\n",
    "    print('Prodotto scalare: {:>10.2f}  Step size finale: {:>10.8f}  Numero iterazioni totali: {:>4}'.format(prodotto_scalare, alpha, k))\n",
    "    print('Tempo totale: {:>10.2f} secondi'.format(tempo_tot))\n",
    "    return "
   ]
  },
  {
   "cell_type": "code",
   "execution_count": 43,
   "metadata": {},
   "outputs": [],
   "source": [
    "def pipeline(nome_file_dmx, nome_file_qfc):\n",
    "\n",
    "    Q = matrice_Q(nome_file_qfc)[0] \n",
    "    numero_nodi, numero_archi, u, b, q, edges, from_ , to_ = leggi_file_dimacs(nome_file_dmx)\n",
    "    E = np.zeros((numero_nodi, len(edges)), int)\n",
    "    algoritmo(nome_file_dmx, epsilon = 0.01, max_iter = 500, Q = Q, q = q, u = u, numero_archi = numero_archi)\n",
    "    return "
   ]
  },
  {
   "cell_type": "code",
   "execution_count": 44,
   "metadata": {},
   "outputs": [
    {
     "name": "stdout",
     "output_type": "stream",
     "text": [
      "Iterazione:    0  Step size:                  1.0  Optimal solution: 558624.000000\n",
      "Iterazione:  100  Step size: 0.019801980198019802  Optimal solution: 558624.000000\n",
      "Iterazione:  200  Step size: 0.009950248756218905  Optimal solution: 558624.000000\n",
      "Iterazione:  300  Step size: 0.006644518272425249  Optimal solution: 558624.000000\n",
      "Iterazione:  400  Step size: 0.004987531172069825  Optimal solution: 558624.000000\n",
      "\n",
      "Prodotto scalare:       0.00  Step size finale: 0.00399202  Numero iterazioni totali:  500\n",
      "Tempo totale:      10.55 secondi\n"
     ]
    }
   ],
   "source": [
    "# prova di utilizzo \n",
    "pipeline(nome_file_dmx = '1000/netgen-1000-1-1-a-a-s.dmx', nome_file_qfc = \"1000/netgen-1000-1-1-a-a-s.qfc\")"
   ]
  }
 ],
 "metadata": {
  "kernelspec": {
   "display_name": "Python 3",
   "language": "python",
   "name": "python3"
  },
  "language_info": {
   "codemirror_mode": {
    "name": "ipython",
    "version": 3
   },
   "file_extension": ".py",
   "mimetype": "text/x-python",
   "name": "python",
   "nbconvert_exporter": "python",
   "pygments_lexer": "ipython3",
   "version": "3.9.0"
  },
  "orig_nbformat": 4
 },
 "nbformat": 4,
 "nbformat_minor": 2
}
