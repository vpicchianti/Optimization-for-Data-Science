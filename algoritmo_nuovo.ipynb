{
 "cells": [
  {
   "cell_type": "markdown",
   "metadata": {},
   "source": [
    "# CODICE PROGETTO 32 OPTIMIZATION \n"
   ]
  },
  {
   "cell_type": "markdown",
   "metadata": {},
   "source": [
    "### Implementazione algoritmo risolutivo"
   ]
  },
  {
   "cell_type": "code",
   "execution_count": 3,
   "metadata": {},
   "outputs": [],
   "source": [
    "import numpy as np\n",
    "import matplotlib.pyplot as plt\n",
    "import random\n",
    "import time\n",
    "from scipy.optimize import *\n",
    "\n",
    "\n",
    "# !pip install pyMCFSimplex\n",
    "from pyMCFSimplex import *"
   ]
  },
  {
   "cell_type": "markdown",
   "metadata": {},
   "source": [
    "#### 1. Estrazione dei dati dai file .dmx e .qfc utilizzati per la generazione delle istanze del problema\n",
    "La prima funzione *matrice_Q(nome_file)* serve per estrarre i costi quadratici che si trovano nella diagonale di Q,\n",
    "\n",
    "mentre la seconda funzione *leggi_file_dimacs(nome_file)* serve per estrarre le seguenti quantità: \n",
    " - u, b, q\n",
    " - numero nodi\n",
    " - numero archi "
   ]
  },
  {
   "cell_type": "code",
   "execution_count": 2,
   "metadata": {},
   "outputs": [],
   "source": [
    "def matrice_Q(nome_file_qfc):\n",
    "    vettore = []\n",
    "    with open(nome_file_qfc, 'r') as file:\n",
    "        dimensione = int(file.readline()) # la prima riga è la dimensione del vettore\n",
    "        valori = file.readline().split() # dalla seconda riga \n",
    "        vettore = [float(valore) for valore in valori]\n",
    "        \n",
    "        #error check \n",
    "        if len(vettore) != dimensione:\n",
    "            raise ValueError(\"Il numero di valori nel file non corrisponde alla dimensione specificata\")\n",
    "    \n",
    "    dimensione = len(vettore)\n",
    "    matrice = np.zeros((dimensione, dimensione)) # creazione matrice \n",
    "    np.fill_diagonal(matrice, vettore)  # si riempie diagonale\n",
    "    \n",
    "    return matrice, vettore\n",
    "\n",
    "\n",
    "def leggi_file_dimacs(nome_file):\n",
    "    numero_nodi = 0\n",
    "    numero_archi = 0\n",
    "    u = []\n",
    "    b = []\n",
    "    q = []\n",
    "    from_=[]\n",
    "    to_=[]\n",
    "    edges = []\n",
    "\n",
    "    with open(nome_file, 'r') as file:\n",
    "        for line in file:\n",
    "            parts = line.split()\n",
    "            if len(parts) > 0:\n",
    "                if parts[0] == 'p':\n",
    "                    # legge il numero di nodi e archi dal problema\n",
    "                    numero_nodi = int(parts[2])\n",
    "                    numero_archi = int(parts[3])\n",
    "                    # inizializza il vettore di supply con zeri\n",
    "                    b = [0] * numero_nodi\n",
    "                elif parts[0] == 'n':\n",
    "                    # legge i valori di supply per i nodi\n",
    "                    nodo_id = int(parts[1])\n",
    "                    supply = int(parts[2])\n",
    "                    # assegna il valore di supply al nodo corrispondente\n",
    "                    b[nodo_id - 1] = supply\n",
    "                elif parts[0] == 'a':\n",
    "                    # leggi l'arco e il suo cotso\n",
    "                    from_node = int(parts[1])\n",
    "                    to_node = int(parts[2])\n",
    "                    max_capacity = int(parts[4])\n",
    "                    costo = int(parts[5])  # leggiamo costo corretto\n",
    "                    from_.append(from_node)\n",
    "                    to_.append(to_node)\n",
    "                    u.append(max_capacity)\n",
    "                    q.append(costo)\n",
    "                    edges.append((from_node , to_node ))\n",
    "\n",
    "    return numero_nodi, numero_archi, u, b, q, edges,from_, to_"
   ]
  },
  {
   "cell_type": "markdown",
   "metadata": {},
   "source": [
    "#### 2. Algoritmo\n",
    "\n",
    "Step: \n",
    "\n",
    "0. Inizializzazione di x<sub>0</sub> con generazione casuale soggetta al vincolo 0 &le; x<sub>0</sub> &le; u\n",
    "1. Calcolo del gradiente, risoluzione del sottoproblema lineare usando il solver pyMCFSimplex (x̄), determinazione della direzione\n",
    "2. Determinazione dello step size &alpha;\n",
    "3. Aggiornamento della posizione e check terminazione sul prodotto scalare (<grad, d>)"
   ]
  },
  {
   "cell_type": "code",
   "execution_count": 4,
   "metadata": {},
   "outputs": [],
   "source": [
    "# Questa funzione crea un nuovo file .dmx in cui i valori delle righe che iniziano con 'a' (definizione archi)\n",
    "# vengono sostituiti con i valori presenti nel vettore gradient. L'obiettivo è modificare il file di input \n",
    "# (input_file) in modo da utilizzare al posto dei costi lineari del file originale, il gradiente \n",
    "# (vogliamo risolvere il sottoproblema lineare, aka l'approssimazione lineare del problema Taylor 1st ordine).   \n",
    "\n",
    "def modify_file_with_gradient(input_file, output_file, gradient):\n",
    "    with open(input_file, 'r') as file:\n",
    "        lines = file.readlines()\n",
    "\n",
    "    # inizalizzazione dell'indice per il vettore gradient\n",
    "    gradient_index = 0\n",
    "\n",
    "    # modifica delle righe che iniziano con 'a'\n",
    "    for i in range(len(lines)):\n",
    "        if lines[i].startswith('a'):\n",
    "            words = lines[i].split()\n",
    "            words[-1] = str(gradient[gradient_index])\n",
    "            gradient_index += 1\n",
    "            lines[i] = ' '.join(words)\n",
    "\n",
    "    # creazione nuovo file\n",
    "    with open(output_file, 'w') as file:\n",
    "        file.writelines(lines)"
   ]
  },
  {
   "cell_type": "code",
   "execution_count": 5,
   "metadata": {},
   "outputs": [],
   "source": [
    "# questo codice serve per calcolare lo step size trovando alpha che minimizzi f (xk + α(dk − xk)) rispettando il vincolo 0 ≤ α ≤ 1. dove f è la nostra funzione di costo. \n",
    "\n",
    "# definizione della funzione quadratica - la nostra f iniziale x^TQx + q\n",
    "def quadratic_function(alpha, xk, dk, Q, q):\n",
    "\n",
    "    x_alpha = [x + alpha * (d - x) for x, d in zip(xk, dk)] \n",
    "    x_alpha = np.array(x_alpha) \n",
    "\n",
    "    # calcola il valore della funzione obiettivo\n",
    "    return x_alpha.T @ Q @ x_alpha + q @ x_alpha\n",
    "\n",
    "\n",
    "def find_optimal_alpha(xk, dk, Q, q):\n",
    "   \n",
    "    objective_function = lambda alpha: quadratic_function(alpha, xk, dk, Q, q) # nostra funzione obiettivo che dipende da alpha \n",
    "    result = minimize_scalar(objective_function, bounds=(0, 1), method = 'bounded') # soluzione del problema di minimo con vincolo su alpha che deve stare tra 0 e 1 \n",
    "\n",
    "    # ritorna il valor ottimo di alpha\n",
    "    return result.x\n"
   ]
  },
  {
   "cell_type": "code",
   "execution_count": 6,
   "metadata": {},
   "outputs": [],
   "source": [
    "def showModuleFunctionality(mcf):\n",
    "    vettore_soluzione = {}  \n",
    "    nmx = mcf.MCFnmax()\n",
    "    mmx = mcf.MCFmmax()\n",
    "    pn = mcf.MCFnmax()\n",
    "    pm = mcf.MCFmmax()\n",
    "\n",
    "    pU = []\n",
    "    caps = new_darray(mmx)\n",
    "    mcf.MCFUCaps(caps)\n",
    "    for i in range(0, mmx):\n",
    "        pU.append(darray_get(caps, i))\n",
    "\n",
    "    pC = []\n",
    "    costs = new_darray(mmx)\n",
    "    mcf.MCFCosts(costs)\n",
    "    for i in range(0, mmx):\n",
    "        pC.append(darray_get(costs, i))\n",
    "\n",
    "    pDfct = []\n",
    "    supply = new_darray(nmx)\n",
    "    mcf.MCFDfcts(supply)\n",
    "    for i in range(0, nmx):\n",
    "        pDfct.append(darray_get(supply, i))\n",
    "\n",
    "    pSn = []\n",
    "    pEn = []\n",
    "    startNodes = new_uiarray(mmx)\n",
    "    endNodes = new_uiarray(mmx)\n",
    "    mcf.MCFArcs(startNodes, endNodes)\n",
    "    for i in range(0, mmx):\n",
    "        pSn.append(uiarray_get(startNodes, i) + 1)\n",
    "        pEn.append(uiarray_get(endNodes, i) + 1)\n",
    "\n",
    "    #print(\"arc flow\")\n",
    "    length = mcf.MCFm()\n",
    "    flow = new_darray(length)\n",
    "    length = mcf.MCFn()\n",
    "    nms = new_uiarray(length)\n",
    "    mcf.MCFGetX(flow, nms)\n",
    "\n",
    "   \n",
    "\n",
    "    for i in range(0, length):\n",
    "       # print(\"flow\", darray_get(flow, i), \"arc\", uiarray_get(nms, i))\n",
    "        vettore_soluzione[uiarray_get(nms, i)] = darray_get(flow, i)\n",
    "\n",
    "    return vettore_soluzione  # Restituisci il vettore_soluzione alla fine della funzione"
   ]
  },
  {
   "cell_type": "code",
   "execution_count": 18,
   "metadata": {},
   "outputs": [],
   "source": [
    "def algoritmo(nome_file, epsilon, max_iter, Q, q, u, numero_archi, f_values, step_size_ottimo):\n",
    "\n",
    "    k = 0 \n",
    "    alpha = 1 \n",
    "    prodotto_scalare = float(\"inf\")\n",
    "    start_time = time.time()\n",
    "\n",
    "    # STEP 0 : inizializzazione di x_0\n",
    "    seed = 42\n",
    "    np.random.seed(seed)\n",
    "    x_old = []\n",
    "\n",
    "    for u_i in u:\n",
    "        x_i = random.randint(0, u_i)\n",
    "        x_old.append(x_i)\n",
    "    \n",
    "\n",
    "    while  (abs(prodotto_scalare)>= epsilon and k < max_iter):\n",
    "        f_x_current = np.dot(np.dot(x_old, Q), x_old) + np.dot(q, x_old)\n",
    "        f_values.append(f_x_current)\n",
    "\n",
    "        # STEP 1 : calcolo gradiente\n",
    "        gradient = (2 * np.dot(Q, x_old)) + q\n",
    "        gradient = gradient.tolist()\n",
    "        modify_file_with_gradient(nome_file, 'output.dmx', gradient)\n",
    "\n",
    "        # risoluzione del problema lineare (ricerca di argmin) con MCF solver\n",
    "        FILENAME = 'output.dmx'\n",
    "        f = open(FILENAME,'r')\n",
    "        inputStr = f.read()\n",
    "        f.close()\n",
    "        mcf = MCFSimplex()\n",
    "        mcf.LoadDMX(inputStr)\n",
    "        mcf.SolveMCF()\n",
    "        if mcf.MCFGetStatus() == 0:\n",
    "            if k % 100 == 0: # stampa output ogni 100 iterazioni \n",
    "                soluzione_ottima = mcf.MCFGetFO()\n",
    "                print( 'step size: ', alpha, 'iterazione: ' ,k,\" Optimal solution: \", soluzione_ottima)\n",
    "\n",
    "        else:\n",
    "            print( \"Problem unfeasible!\")\n",
    "         \n",
    "        vettore_soluzione = showModuleFunctionality(mcf)\n",
    "     \n",
    "        sol_x = [0] * numero_archi\n",
    "        for key in vettore_soluzione:\n",
    "            if key <= 1000:\n",
    "                sol_x[key-1] = vettore_soluzione[key]\n",
    "\n",
    "        # calcolo delle x_bar e determinazione della direzione di ricerca\n",
    "        x_bar = sol_x\n",
    "        d = [a - b for a, b in zip(x_bar, x_old)] # direzione\n",
    "\n",
    "        # STEP 2 : determinazione alpha, step size \n",
    "\n",
    "        if step_size_ottimo:\n",
    "            alpha = find_optimal_alpha(x_old, d, Q, q)\n",
    "        else:\n",
    "            alpha = 2 / (2+k)\n",
    "\n",
    "        # STEP 3 : aggiornamento della posizione\n",
    "        x_new = []\n",
    "        for i in range(len(x_old)):\n",
    "            x_new.append(x_old[i] + alpha * d[i])\n",
    "\n",
    "        # check terminazione \n",
    "        gradient_per_check = (2 * np.dot(Q, x_new) ) + q\n",
    "        prodotto_scalare = np.dot(gradient_per_check, d)\n",
    "    \n",
    "        # aggiornamento poszione e incremento numero di iterazioni\n",
    "        x_old = x_new\n",
    "        k += 1\n",
    "        \n",
    "    end_time = time.time()\n",
    "    tempo_tot = end_time - start_time\n",
    "\n",
    "    print()\n",
    "    print('Prodotto scalare: {:>10.2f}  Step size finale: {:>10.8f}  Numero iterazioni totali: {:>4}'.format(prodotto_scalare, alpha, k))\n",
    "    print('Tempo totale: {:>10.2f} secondi'.format(tempo_tot))\n",
    "    \n",
    "    return f_values"
   ]
  },
  {
   "cell_type": "code",
   "execution_count": 19,
   "metadata": {},
   "outputs": [],
   "source": [
    "def pipeline(nome_file_dmx, nome_file_qfc):\n",
    "\n",
    "    Q = matrice_Q(nome_file_qfc)[0] \n",
    "    f_values = []\n",
    "    \n",
    "    numero_nodi, numero_archi, u, b, q, edges,from_ , to_ = leggi_file_dimacs(nome_file_dmx)\n",
    "    #E = np.zeros((numero_nodi, len(edges)), int)\n",
    "    #for i, (out_node, in_node) in enumerate(edges):\n",
    "     #   E[out_node-1, i] = -1\n",
    "      #  E[in_node-1, i] = 1\n",
    "\n",
    "    algoritmo(nome_file_dmx, epsilon = 0.1, max_iter = 1000, Q = Q, q = q, u = u, numero_archi = numero_archi, f_values = f_values, step_size_ottimo = True)\n",
    "    return f_values"
   ]
  },
  {
   "cell_type": "code",
   "execution_count": 20,
   "metadata": {},
   "outputs": [
    {
     "name": "stdout",
     "output_type": "stream",
     "text": [
      "step size:  1 iterazione:  0  Optimal solution:  3690757.0\n",
      "\n",
      "Prodotto scalare:       0.05  Step size finale: 0.99999404  Numero iterazioni totali:   18\n",
      "Tempo totale:       1.81 secondi\n"
     ]
    }
   ],
   "source": [
    "# prova di utilizzo \n",
    "valori_f = pipeline(nome_file_dmx = '1000/netgen-1000-3-5-b-b-ns.dmx', nome_file_qfc = \"1000/netgen-1000-3-5-b-b-ns.qfc\")"
   ]
  },
  {
   "cell_type": "markdown",
   "metadata": {},
   "source": [
    "### Studio della convergenza \n"
   ]
  },
  {
   "cell_type": "code",
   "execution_count": 37,
   "metadata": {},
   "outputs": [
    {
     "name": "stdout",
     "output_type": "stream",
     "text": [
      "step size:  1.0 iterazione:  0  Optimal solution: 2615517.0\n",
      "\n",
      "Prodotto scalare:       0.03  Step size finale: 0.99999404  Numero iterazioni totali:   33\n",
      "Tempo totale:       1.34 secondi\n"
     ]
    }
   ],
   "source": [
    "result_f_values = pipeline( '1000/netgen-1000-3-5-b-b-ns.dmx', \"1000/netgen-1000-3-5-b-b-ns.qfc\")\n",
    "#print(result_f_values)  # Stampa i valori di f(x) registrati\n"
   ]
  },
  {
   "cell_type": "code",
   "execution_count": 38,
   "metadata": {},
   "outputs": [],
   "source": [
    "temp = matrice_Q('1000/netgen-1000-1-1-a-a-s.qfc')\n",
    "numero_nodi, numero_archi, u, b, q, edges,from_ , to_ = leggi_file_dimacs('1000/netgen-1000-1-1-a-a-s.dmx')\n",
    "Q = temp[0]\n",
    "Q_diag = temp[1]"
   ]
  },
  {
   "cell_type": "code",
   "execution_count": 39,
   "metadata": {},
   "outputs": [],
   "source": [
    "# l'autovalore massimo di Q è la costante L\n",
    "L = np.max(Q_diag)\n",
    "# il diametro dello spazio  è la norma del vettore u \n",
    "D = np.linalg.norm(u)"
   ]
  },
  {
   "cell_type": "code",
   "execution_count": 42,
   "metadata": {},
   "outputs": [
    {
     "data": {
      "image/png": "[encoded data removed]",
      "text/plain": [
       "<Figure size 720x432 with 1 Axes>"
      ]
     },
     "metadata": {
      "needs_background": "light"
     },
     "output_type": "display_data"
    }
   ],
   "source": [
    "k_max = 33 # numero massimo di iterazioni\n",
    "\n",
    "# inizializzazione delle liste per i dati\n",
    "k_values = []  # valori di k (iterazione)\n",
    "convergence_values = []  # valori di convergenza teorica\n",
    "f_values = result_f_values\n",
    "\n",
    "# Simula i dati teorici (convergenza teorica)\n",
    "for k in range(1, k_max + 1):\n",
    "    k_values.append(k)\n",
    "    convergence_values.append((2 * L * D**2) / (k + 3))\n",
    "\n",
    "\n",
    "# crea il grafico\n",
    "plt.figure(figsize=(10, 6))\n",
    "plt.plot(k_values, convergence_values, label=\"Convergenza Teorica\", linestyle='--')\n",
    "plt.plot(k_values, f_values, label=\"Convergenza Effettiva\", linestyle='-')\n",
    "\n",
    "plt.xlabel(\"Iterazione (k)\")\n",
    "plt.ylabel(\"Valore di Convergenza\")\n",
    "plt.legend()\n",
    "plt.title(\"Convergenza Teorica ed Effettiva\")\n",
    "plt.grid(True)\n",
    "\n",
    "# Mostra il grafico\n",
    "plt.show()\n"
   ]
  },
  {
   "cell_type": "code",
   "execution_count": null,
   "metadata": {},
   "outputs": [],
   "source": []
  }
 ],
 "metadata": {
  "kernelspec": {
   "display_name": "Python 3 (ipykernel)",
   "language": "python",
   "name": "python3"
  },
  "language_info": {
   "codemirror_mode": {
    "name": "ipython",
    "version": 3
   },
   "file_extension": ".py",
   "mimetype": "text/x-python",
   "name": "python",
   "nbconvert_exporter": "python",
   "pygments_lexer": "ipython3",
   "version": "3.9.0"
  }
 },
 "nbformat": 4,
 "nbformat_minor": 4
}
